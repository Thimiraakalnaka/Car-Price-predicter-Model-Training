{
  "cells": [
    {
      "cell_type": "code",
      "execution_count": 1,
      "metadata": {
        "colab": {
          "base_uri": "https://localhost:8080/"
        },
        "id": "xJFNvIhdO8kA",
        "outputId": "433fe559-7958-42c9-90fc-5a36f5f25515"
      },
      "outputs": [
        {
          "name": "stdout",
          "output_type": "stream",
          "text": [
            "Mounted at /content/drive\n"
          ]
        }
      ],
      "source": [
        "#from google.colab import drive\n",
        "#drive.mount('/content/drive')"
      ]
    },
    {
      "cell_type": "code",
      "execution_count": 1,
      "metadata": {
        "id": "ze5QLNz8PVug"
      },
      "outputs": [],
      "source": [
        "import pickle\n",
        "import tkinter as tk"
      ]
    },
    {
      "cell_type": "code",
      "execution_count": 2,
      "metadata": {
        "id": "cLAfzcybPgt_"
      },
      "outputs": [],
      "source": [
        "model=pickle.load(open(\"RF_my_carmodel.pkl\",\"rb\"))"
      ]
    },
    {
      "cell_type": "code",
      "execution_count": 4,
      "metadata": {
        "colab": {
          "base_uri": "https://localhost:8080/"
        },
        "id": "HOy6kfv9Pnpg",
        "outputId": "ac0a3010-7cad-4a93-ee5c-ded0b5df15da"
      },
      "outputs": [
        {
          "name": "stderr",
          "output_type": "stream",
          "text": [
            "C:\\Users\\thimi\\AppData\\Roaming\\Python\\Python311\\site-packages\\sklearn\\base.py:464: UserWarning: X does not have valid feature names, but RandomForestRegressor was fitted with feature names\n",
            "  warnings.warn(\n"
          ]
        },
        {
          "name": "stdout",
          "output_type": "stream",
          "text": [
            "Predicted Car Price: 12747.398095238097\n"
          ]
        }
      ],
      "source": [
        "import joblib\n",
        "model_filename = 'RF_my_carmodel.pkl'\n",
        "\n",
        "loaded_rf = joblib.load(model_filename)\n",
        "\n",
        "user_input = {\n",
        "    'year': int(input(\"Enter the car's manufacturing year: \")),\n",
        "    'manufacturer': int(input(\"Enter the car's manufacturer : \")),\n",
        "    'condition': int(input(\"Enter the car's condition : \")),\n",
        "    'cylinders': int(input(\"Enter the car's cylinders : \")),\n",
        "    'fuel': int(input(\"Enter the fuel: \")),\n",
        "    'odometer': int(input(\"Enter the odometer reading : \")),\n",
        "    'transmission': int(input(\"Enter the transmission type : \")),\n",
        "    'drive': int(input(\"Enter the car's drive: \")),\n",
        "    'type': int(input(\"Enter the car's type: \")),\n",
        "    'paint_color': int(input(\"Enter the car's Paint : \")),\n",
        "}\n",
        "\n",
        "predicted_price = loaded_rf.predict([list(user_input.values())])\n",
        "print(\"Predicted Car Price:\", predicted_price[0])"
      ]
    },
    {
      "cell_type": "code",
      "execution_count": null,
      "metadata": {},
      "outputs": [],
      "source": []
    }
  ],
  "metadata": {
    "colab": {
      "provenance": []
    },
    "kernelspec": {
      "display_name": "Python 3",
      "name": "python3"
    },
    "language_info": {
      "codemirror_mode": {
        "name": "ipython",
        "version": 3
      },
      "file_extension": ".py",
      "mimetype": "text/x-python",
      "name": "python",
      "nbconvert_exporter": "python",
      "pygments_lexer": "ipython3",
      "version": "3.11.4"
    }
  },
  "nbformat": 4,
  "nbformat_minor": 0
}
